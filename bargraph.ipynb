{
 "cells": [
  {
   "cell_type": "code",
   "execution_count": 9,
   "id": "b05e4aea",
   "metadata": {},
   "outputs": [],
   "source": [
    "import os\n",
    "from collections import deque\n",
    "\n",
    "# Press a key to generate random values using Perlin noise\n",
    "# or use the mouse to use the mouse_y value\n",
    "\n",
    "WIDTH = 600\n",
    "HEIGHT = 400\n",
    "NUM_BARS = 20\n",
    "NOISE_SCALE = 0.1\n",
    "\n",
    "bar_size = WIDTH / NUM_BARS\n",
    "\n",
    "def setup():\n",
    "    size(WIDTH, HEIGHT)\n",
    "    smooth()\n",
    "    \n",
    "    fill(255)\n",
    "    \n",
    "    global noise_x\n",
    "    noise_x = 0.\n",
    "    \n",
    "    global noise_deque\n",
    "#     noise_deque = deque()\n",
    "#     for _ in range(NUM_BARS):\n",
    "#         noise_deque.append(noise(noise_x))\n",
    "#         noise_x += NOISE_SCALE\n",
    "    \n",
    "    # meh   \n",
    "    noise_deque = deque((remap(noise(noise_x), 0, 1, 0, height) for _ in range(NUM_BARS) if (noise_x := noise_x + NOISE_SCALE)))\n",
    "        \n",
    "    no_loop()\n",
    "\n",
    "def draw():   \n",
    "    global noise_x\n",
    "    \n",
    "    background(127)\n",
    "    \n",
    "    for i, val in enumerate(noise_deque):\n",
    "        with push_matrix():\n",
    "            translate(i * bar_size, height)\n",
    "            \n",
    "            rect(0,0, bar_size, -val)\n",
    "            \n",
    "    if is_key_pressed:        \n",
    "        noise_deque.append(remap(noise(noise_x), 0, 1, 0, height))\n",
    "        noise_x += NOISE_SCALE\n",
    "        noise_deque.popleft()\n",
    "    elif is_mouse_pressed:\n",
    "        noise_deque.append(height - mouse_y)\n",
    "        noise_deque.popleft()              \n",
    "    \n",
    "def key_pressed():\n",
    "    loop()\n",
    "    \n",
    "def key_release():\n",
    "    no_loop()    \n",
    "\n",
    "def mouse_pressed():\n",
    "    loop()\n",
    "    \n",
    "def mouse_released():\n",
    "    no_loop()    \n",
    "    \n",
    "run_sketch()\n",
    "save_frame(os.getcwd() + \"/bargraph_####.png\", use_thread=True)"
   ]
  },
  {
   "attachments": {
    "bargraph_0001.png": {
     "image/png": "[encoded data removed]"
    }
   },
   "cell_type": "markdown",
   "id": "007693b3",
   "metadata": {},
   "source": [
    "![bargraph_0001.png](attachment:bargraph_0001.png)"
   ]
  },
  {
   "cell_type": "code",
   "execution_count": null,
   "id": "4bcf68a1",
   "metadata": {},
   "outputs": [],
   "source": []
  }
 ],
 "metadata": {
  "kernelspec": {
   "display_name": "py5",
   "language": "python",
   "name": "py5"
  },
  "language_info": {
   "codemirror_mode": {
    "name": "ipython",
    "version": 3
   },
   "file_extension": ".py",
   "mimetype": "text/x-python",
   "name": "python",
   "nbconvert_exporter": "python",
   "pygments_lexer": "ipython3",
   "version": "3.10.12"
  }
 },
 "nbformat": 4,
 "nbformat_minor": 5
}
