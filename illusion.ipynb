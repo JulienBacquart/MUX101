{
 "cells": [
  {
   "cell_type": "code",
   "execution_count": 1,
   "id": "3c7e0a10",
   "metadata": {},
   "outputs": [
    {
     "name": "stdout",
     "output_type": "stream",
     "text": [
      "[255, 248, 242, 235, 229, 222, 216, 209, 203, 196, 190, 183, 177, 170, 163, 157, 150, 144, 137, 131, 124, 118, 111, 105, 98, 92, 85, 78, 72, 65, 59, 52, 46, 39, 33, 26, 20, 13, 7, 0]\n",
      "[160.0, 320.0, 480.0, 640.0]\n"
     ]
    }
   ],
   "source": [
    "WIDTH = 800\n",
    "HEIGHT = 300\n",
    "\n",
    "NUM_COLOR = 40\n",
    "\n",
    "def setup():\n",
    "    size(WIDTH, HEIGHT)\n",
    "    \n",
    "    # generate color palette using linear interpolation\n",
    "    global col_list\n",
    "    col_list = [lerp_color(255, 0, i / (NUM_COLOR - 1)) for i in range(NUM_COLOR)]\n",
    "    print(col_list)\n",
    "    \n",
    "    no_stroke()    \n",
    "    no_loop()\n",
    "\n",
    "def draw():\n",
    "    x_offset = width / NUM_COLOR\n",
    "    \n",
    "    with push_matrix():\n",
    "        for i in range(NUM_COLOR):\n",
    "            fill(col_list[i])\n",
    "            rect(0, 0, x_offset, height)\n",
    "            translate(x_offset, 0)\n",
    "    \n",
    "    # generate x positions of the central rectangles, discard the first one at position 0.0\n",
    "    rect_list = [lerp(0, width, i/5) for i in range(5)][1:]\n",
    "    print(rect_list)\n",
    "    \n",
    "    rect_mode(CENTER)\n",
    "    fill(127)\n",
    "    for r_x in rect_list:\n",
    "        rect(r_x, height/2, 30, 100)\n",
    "        \n",
    "    save_frame(\"./illusion_0001.png\", use_thread=True)    \n",
    "    \n",
    "run_sketch()"
   ]
  },
  {
   "attachments": {
    "illusion_0001.png": {
     "image/png": "[encoded data removed]"
    }
   },
   "cell_type": "markdown",
   "id": "66a1a40f",
   "metadata": {},
   "source": [
    "![illusion_0001.png](attachment:illusion_0001.png)"
   ]
  }
 ],
 "metadata": {
  "kernelspec": {
   "display_name": "py5",
   "language": "python",
   "name": "py5"
  },
  "language_info": {
   "codemirror_mode": {
    "name": "ipython",
    "version": 3
   },
   "file_extension": ".py",
   "mimetype": "text/x-python",
   "name": "python",
   "nbconvert_exporter": "python",
   "pygments_lexer": "ipython3",
   "version": "3.10.12"
  }
 },
 "nbformat": 4,
 "nbformat_minor": 5
}
