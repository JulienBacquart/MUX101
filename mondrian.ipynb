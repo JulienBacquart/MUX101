{
 "cells": [
  {
   "cell_type": "code",
   "execution_count": 6,
   "id": "5f573dc0",
   "metadata": {},
   "outputs": [
    {
     "name": "stdout",
     "output_type": "stream",
     "text": [
      "len(list_cells)=20, [((0,0), (100.0,100.0), ((0,100.0), (100.0,100.0), ((0,200.0), (100.0,100.0), ((0,300.0), (100.0,200.0), ((0,500.0), (100.0,100.0), ((100.0,0), (100.0,100.0), ((200.0,0), (100.0,100.0), ((300.0,0), (300.0,100.0), ((100.0,100.0), (100.0,300.0), ((100.0,400.0), (100.0,200.0), ((200.0,100.0), (100.0,100.0), ((300.0,100.0), (100.0,100.0), ((400.0,100.0), (100.0,100.0), ((500.0,100.0), (100.0,100.0), ((200.0,200.0), (100.0,300.0), ((200.0,500.0), (100.0,100.0), ((300.0,200.0), (100.0,100.0), ((400.0,200.0), (200.0,100.0), ((300.0,300.0), (300.0,200.0), ((300.0,500.0), (300.0,100.0)]\n"
     ]
    }
   ],
   "source": [
    "# For an explanation of the algorithm see:\n",
    "# https://generativeartistry.com/tutorials/piet-mondrian/\n",
    "\n",
    "import os\n",
    "\n",
    "WIDTH = 600\n",
    "HEIGHT = 600\n",
    "\n",
    "colors = ['#D40920', '#1356A2', '#F7D842']\n",
    "STROKE_WEIGHT = 8\n",
    "\n",
    "STEP = 6\n",
    "STEP_WIDTH = WIDTH / STEP\n",
    "STEP_HEIGHT = HEIGHT / STEP\n",
    "\n",
    "class Cell:\n",
    "    def __init__(self, x, y, width_cell, height_cell):\n",
    "        self.x = x\n",
    "        self.y = y\n",
    "        self.width_cell = width_cell\n",
    "        self.height_cell = height_cell\n",
    "        \n",
    "    def __repr__(self):\n",
    "        return f'(({self.x},{self.y}), ({self.width_cell},{self.height_cell})'\n",
    "    \n",
    "    def split_on_x(self, split_at):\n",
    "        if self.x < split_at < (self.x + self.width_cell):\n",
    "            # coin flip to know if we split the cell or do nothing\n",
    "            coin = random_int()\n",
    "            if coin:\n",
    "                return Cell(self.x, self.y, (split_at - self.x), self.height_cell), Cell(split_at, self.y, self.width_cell - (split_at - self.x), self.height_cell)\n",
    "        return [self]\n",
    "        \n",
    "    def split_on_y(self, split_at):\n",
    "        if self.y < split_at < (self.y + self.height_cell):\n",
    "            # coin flip to know if we split the cell or do nothing\n",
    "            coin = random_int()\n",
    "            if coin:\n",
    "                return Cell(self.x, self.y, self.width_cell, (split_at - self.y)), Cell(self.x, split_at, self.width_cell, self.height_cell - (split_at - self.y),)\n",
    "        return [self]\n",
    "        \n",
    "def setup():\n",
    "    size(WIDTH, HEIGHT)\n",
    "    background(255)\n",
    "    stroke(0)\n",
    "    stroke_weight(STROKE_WEIGHT)\n",
    "    \n",
    "    global list_cells\n",
    "    list_cells = [Cell(0, 0, width, height)]\n",
    "    \n",
    "    for i in range(1, STEP):\n",
    "        split_at_x = STEP_WIDTH * i\n",
    "        split_at_y = STEP_HEIGHT * i\n",
    "        \n",
    "        # Split on x\n",
    "        for _ in range(len(list_cells)):\n",
    "            list_cells += list_cells.pop(0).split_on_x(split_at_x)\n",
    "        # Split on y\n",
    "        for _ in range(len(list_cells)):\n",
    "            list_cells += list_cells.pop(0).split_on_y(split_at_y)\n",
    "        \n",
    "    print(f'{len(list_cells)=}, {list_cells}')\n",
    "    \n",
    "    no_fill()\n",
    "    no_loop()\n",
    "    \n",
    "def draw():\n",
    "    # Draw the cells as white\n",
    "    for c in list_cells:\n",
    "        rect(c.x, c.y, c.width_cell, c.height_cell)\n",
    "        \n",
    "    # Pick 3 random cells to be colorized \n",
    "    list_cells_colorized = random_sample(list_cells, size = 3, replace = False)\n",
    "    for c, col in zip(list_cells_colorized, colors):\n",
    "        fill(col)\n",
    "        rect(c.x, c.y, c.width_cell, c.height_cell)\n",
    "        \n",
    "    save_frame(os.getcwd() + \"/mondrian_####.png\", use_thread=True)\n",
    "\n",
    "run_sketch()"
   ]
  },
  {
   "attachments": {
    "mondrian_0001.png": {
     "image/png": "[encoded data removed]"
    }
   },
   "cell_type": "markdown",
   "id": "7df7b7cf",
   "metadata": {},
   "source": [
    "![mondrian_0001.png](attachment:mondrian_0001.png)"
   ]
  }
 ],
 "metadata": {
  "kernelspec": {
   "display_name": "py5",
   "language": "python",
   "name": "py5"
  },
  "language_info": {
   "codemirror_mode": {
    "name": "ipython",
    "version": 3
   },
   "file_extension": ".py",
   "mimetype": "text/x-python",
   "name": "python",
   "nbconvert_exporter": "python",
   "pygments_lexer": "ipython3",
   "version": "3.10.12"
  }
 },
 "nbformat": 4,
 "nbformat_minor": 5
}
