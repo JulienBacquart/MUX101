{
 "cells": [
  {
   "cell_type": "code",
   "execution_count": 10,
   "id": "493e711a",
   "metadata": {},
   "outputs": [],
   "source": [
    "from collections import namedtuple\n",
    "\n",
    "RES = 5\n",
    "\n",
    "Point = namedtuple('Point', ['x', 'y'])\n",
    "\n",
    "def my_line(p1, p2):\n",
    "    if p1.x < p2.x:\n",
    "        incx = RES\n",
    "    elif p1.x == p2.x:\n",
    "        incx = 0\n",
    "    else:\n",
    "        incx = -RES\n",
    "        \n",
    "    if p1.y < p2.y:\n",
    "        incy = RES\n",
    "    elif p1.y == p2.y:\n",
    "        incy = 0\n",
    "    else:\n",
    "        incy = -RES\n",
    "\n",
    "        \n",
    "    dx=abs(p2.x - p1.x)\n",
    "    dy=abs(p2.y - p1.y)\n",
    "    \n",
    "    # Si la pente est >1, inversion des axes\n",
    "    if dx < dy:\n",
    "        dx, dy = dy, dx\n",
    "        incx, incy = incy, incx\n",
    "        xd, yd = p1.y, p1.x \n",
    "        xf = p2.y\n",
    "        invert = True\n",
    "    else:\n",
    "        xd, yd = p1.x, p1.y\n",
    "        xf = p2.x\n",
    "        invert = False\n",
    "        \n",
    "    # Premier point\n",
    "    x, y = xd, yd\n",
    "    inc1 = 2 * dy\n",
    "    inc2 = (dy-dx) * 2\n",
    "    d = (dy * 2) - dx\n",
    "   \n",
    "    if invert: \n",
    "#         point(y,x)\n",
    "        rect(y, x, RES, RES)\n",
    "    else:\n",
    "#         point(x,y) \n",
    "        rect(x, y, RES, RES)\n",
    "   \n",
    "    # Boucle de dessin\n",
    "    while (incx >= 0 and x <= xf) or (incx < 0 and x > xf):\n",
    "        x += incx\n",
    "        if d < 0:\n",
    "            d += inc1\n",
    "        else:\n",
    "            y += incy\n",
    "            d += inc2\n",
    "            \n",
    "        if invert: \n",
    "#             point(y, x)\n",
    "            rect(y, x, RES, RES)\n",
    "        else:\n",
    "#             point(x,y)\n",
    "            rect(x, y, RES, RES)\n",
    "            \n",
    "def setup():\n",
    "    global p0\n",
    "    \n",
    "    size(400, 400)\n",
    "    stroke(255)\n",
    "    \n",
    "    p0 = Point(x=width//2, y=height//2)\n",
    "    \n",
    "    no_loop()\n",
    "\n",
    "def draw():\n",
    "    background(0)\n",
    "    \n",
    "    p1 = Point(x=int(mouse_x), y=int(mouse_y))\n",
    "    my_line(p0, p1)\n",
    "    \n",
    "def mouse_moved():\n",
    "    redraw()\n",
    "    \n",
    "run_sketch() "
   ]
  },
  {
   "cell_type": "code",
   "execution_count": 11,
   "id": "09dd3a05",
   "metadata": {},
   "outputs": [],
   "source": [
    "save_frame(\"./bresenham_0001.png\", use_thread=True)"
   ]
  },
  {
   "attachments": {
    "bresenham_0001.png": {
     "image/png": "[encoded data removed]"
    }
   },
   "cell_type": "markdown",
   "id": "9aed7d42",
   "metadata": {},
   "source": [
    "![bresenham_0001.png](attachment:bresenham_0001.png)"
   ]
  },
  {
   "cell_type": "code",
   "execution_count": null,
   "id": "f56a9e64",
   "metadata": {},
   "outputs": [],
   "source": []
  }
 ],
 "metadata": {
  "kernelspec": {
   "display_name": "py5",
   "language": "python",
   "name": "py5"
  },
  "language_info": {
   "codemirror_mode": {
    "name": "ipython",
    "version": 3
   },
   "file_extension": ".py",
   "mimetype": "text/x-python",
   "name": "python",
   "nbconvert_exporter": "python",
   "pygments_lexer": "ipython3",
   "version": "3.10.12"
  }
 },
 "nbformat": 4,
 "nbformat_minor": 5
}
