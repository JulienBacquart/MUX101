{
 "cells": [
  {
   "cell_type": "code",
   "execution_count": 2,
   "id": "ca967886",
   "metadata": {},
   "outputs": [],
   "source": [
    "class Slider:\n",
    "\n",
    "    def __init__(self, slider_x, slider_y, slider_w, slider_h, slider_value = 0.5):\n",
    "        self.s_x = slider_x\n",
    "        self.s_y = slider_y\n",
    "        self.s_w = slider_w\n",
    "        self.s_h = slider_h\n",
    "        self.s_value = slider_value\n",
    "        self.s_mouse_over = False\n",
    "        \n",
    "    def __repr__(self):\n",
    "        return f'Slider({self.s_x}, {self.s_y}, {self.s_w}, {self.s_h}, {self.s_value})'\n",
    "    \n",
    "    def display(self):\n",
    "        with push_style():\n",
    "            stroke(255)\n",
    "            \n",
    "            #outside shape\n",
    "            stroke_weight(3) if self.s_mouse_over else stroke_weight(1)\n",
    "            no_fill()\n",
    "            rect(self.s_x, self.s_y, self.s_w, self.s_h)\n",
    "            \n",
    "            #content\n",
    "            fill(255)\n",
    "            rect(self.s_x, self.s_y, remap(self.s_value, 0, 1, 0, self.s_w), self.s_h)\n",
    "            \n",
    "    def mouse_over(self, m_x, m_y):\n",
    "        if (self.s_x <= m_x <= self.s_x + self.s_w) and (self.s_y <= m_y <= self.s_y + self.s_h):\n",
    "            self.s_mouse_over = True\n",
    "        else:\n",
    "            self.s_mouse_over = False\n",
    "        return self.s_mouse_over\n",
    "    \n",
    "    def clicked(self, m_x, m_y):\n",
    "        if self.mouse_over(m_x, m_y): # we need to check the current position on the mouse, otherwise we can drag the slider outside of its boundaries\n",
    "            self.s_value = remap(m_x - self.s_x, 0, self.s_w, 0, 1)\n",
    "            \n",
    "    def get_value(self):\n",
    "        return self.s_value\n",
    "\n",
    "import os\n",
    "  \n",
    "WIDTH = 300\n",
    "HEIGHT = 120\n",
    "\n",
    "SLIDER_LENGTH = 100\n",
    "SLIDER_HEIGHT = 12\n",
    "\n",
    "slider_list = [Slider(50, 25 + i * 30, 100, 12) for i in range(3)]\n",
    "\n",
    "def setup():\n",
    "    size(WIDTH, HEIGHT)\n",
    "    smooth()\n",
    "        \n",
    "    no_loop()\n",
    "\n",
    "def draw():\n",
    "    background(0)\n",
    "    \n",
    "    for s in slider_list:\n",
    "        s.display()\n",
    "        \n",
    "    with push_style():\n",
    "        stroke(255)\n",
    "        col = (remap(slider_list[i].get_value(), 0, 1, 0, 255) for i in range(3))\n",
    "        fill(*col)\n",
    "        rect(190, 23, 75, 75)\n",
    "\n",
    "def mouse_moved():\n",
    "    for s in slider_list:\n",
    "        s.mouse_over(mouse_x, mouse_y)\n",
    "    redraw()\n",
    "\n",
    "def mouse_pressed():\n",
    "    for s in slider_list:\n",
    "        s.clicked(mouse_x, mouse_y)\n",
    "    redraw()\n",
    "    \n",
    "def mouse_dragged():\n",
    "    for s in slider_list:\n",
    "        s.clicked(mouse_x, mouse_y)\n",
    "    redraw()\n",
    "    \n",
    "run_sketch()"
   ]
  },
  {
   "cell_type": "code",
   "execution_count": null,
   "id": "58ff2797",
   "metadata": {},
   "outputs": [],
   "source": [
    "save_frame(os.getcwd() + \"/sliders_####.png\", use_thread=True)"
   ]
  },
  {
   "attachments": {
    "sliders_0001.png": {
     "image/png": "[encoded data removed]"
    }
   },
   "cell_type": "markdown",
   "id": "0219b399",
   "metadata": {},
   "source": [
    "![sliders_0001.png](attachment:sliders_0001.png)"
   ]
  }
 ],
 "metadata": {
  "kernelspec": {
   "display_name": "py5",
   "language": "python",
   "name": "py5"
  },
  "language_info": {
   "codemirror_mode": {
    "name": "ipython",
    "version": 3
   },
   "file_extension": ".py",
   "mimetype": "text/x-python",
   "name": "python",
   "nbconvert_exporter": "python",
   "pygments_lexer": "ipython3",
   "version": "3.10.12"
  }
 },
 "nbformat": 4,
 "nbformat_minor": 5
}
