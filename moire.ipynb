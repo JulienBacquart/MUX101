{
 "cells": [
  {
   "cell_type": "code",
   "execution_count": 8,
   "id": "26c43eda",
   "metadata": {},
   "outputs": [],
   "source": [
    "import os\n",
    "  \n",
    "WIDTH = 400\n",
    "HEIGHT = 600\n",
    "\n",
    "NUM_LINE = 50\n",
    "\n",
    "def setup():\n",
    "    size(WIDTH, HEIGHT)\n",
    "    smooth()\n",
    "        \n",
    "    no_loop()\n",
    "\n",
    "def draw():\n",
    "    background(255)\n",
    "    \n",
    "    num_line = NUM_LINE if mouse_x == 0 else mouse_x\n",
    "    \n",
    "    x_offset = width / num_line\n",
    "    for i in range(num_line):\n",
    "            line(i * x_offset, 0, width - (i * x_offset), height)\n",
    "            \n",
    "    y_offset = height / num_line\n",
    "    for i in range(1, num_line + 1):\n",
    "            line(0, i * y_offset, width, height - (i * y_offset))    \n",
    "    \n",
    "def mouse_moved():\n",
    "    redraw()\n",
    "       \n",
    "run_sketch()"
   ]
  },
  {
   "cell_type": "code",
   "execution_count": 10,
   "id": "aa9dc702",
   "metadata": {},
   "outputs": [],
   "source": [
    "save_frame(os.getcwd() + \"/moire_####.png\", use_thread=True)"
   ]
  },
  {
   "cell_type": "code",
   "execution_count": null,
   "id": "0721bf03",
   "metadata": {},
   "outputs": [],
   "source": []
  }
 ],
 "metadata": {
  "kernelspec": {
   "display_name": "py5",
   "language": "python",
   "name": "py5"
  },
  "language_info": {
   "codemirror_mode": {
    "name": "ipython",
    "version": 3
   },
   "file_extension": ".py",
   "mimetype": "text/x-python",
   "name": "python",
   "nbconvert_exporter": "python",
   "pygments_lexer": "ipython3",
   "version": "3.10.12"
  }
 },
 "nbformat": 4,
 "nbformat_minor": 5
}
