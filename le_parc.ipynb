{
 "cells": [
  {
   "cell_type": "code",
   "execution_count": 113,
   "id": "92221484",
   "metadata": {},
   "outputs": [],
   "source": [
    "import os\n",
    "\n",
    "WIDTH = 600\n",
    "NUM_TILES = 8\n",
    "\n",
    "tile_size = WIDTH / NUM_TILES\n",
    "\n",
    "# generate shades of grey\n",
    "colors = [i for i in range(0, 256, 255 // (NUM_TILES - 1))]\n",
    "\n",
    "def setup():\n",
    "    size(WIDTH, WIDTH)\n",
    "    smooth()\n",
    "\n",
    "    no_stroke()\n",
    "    no_loop()\n",
    "\n",
    "def draw():\n",
    "    for x in range(0, NUM_TILES):\n",
    "        for y in range(0, NUM_TILES):\n",
    "            position = Py5Vector2D(x * tile_size, y * tile_size)\n",
    "            \n",
    "            push_matrix()\n",
    "            \n",
    "            translate(position.x + tile_size//2, position.y + tile_size//2)\n",
    "            if (x % 2 == 0) & (y % 2 == 0):\n",
    "                rotate(0) # do nothing\n",
    "            elif (x % 2 == 1) & (y % 2 == 0):\n",
    "                rotate(TWO_PI/4) # rotate 90 degrees\n",
    "            elif (x % 2 == 0) & (y % 2 == 1):\n",
    "                rotate(-TWO_PI/4) # rotate -90 degrees\n",
    "            else:\n",
    "                rotate(TWO_PI/2) # rotate 180 degrees\n",
    "\n",
    "            for i in range(0, NUM_TILES):\n",
    "                # Pick a shade of grey for the rectangle\n",
    "                col = colors[i]\n",
    "                fill(col)\n",
    "                rect(-tile_size//2, -tile_size//2 + (tile_size / NUM_TILES) * i, tile_size, tile_size/NUM_TILES)\n",
    "\n",
    "            pop_matrix()\n",
    "            \n",
    "    save_frame(os.getcwd() + \"/le_parc_####.png\", use_thread=True)\n",
    "\n",
    "run_sketch()"
   ]
  },
  {
   "attachments": {
    "le_parc_0001.png": {
     "image/png": "[encoded data removed]"
    }
   },
   "cell_type": "markdown",
   "id": "a6e768aa",
   "metadata": {},
   "source": [
    "![le_parc_0001.png](attachment:le_parc_0001.png)"
   ]
  },
  {
   "cell_type": "code",
   "execution_count": null,
   "id": "675140b6",
   "metadata": {},
   "outputs": [],
   "source": []
  }
 ],
 "metadata": {
  "kernelspec": {
   "display_name": "py5",
   "language": "python",
   "name": "py5"
  },
  "language_info": {
   "codemirror_mode": {
    "name": "ipython",
    "version": 3
   },
   "file_extension": ".py",
   "mimetype": "text/x-python",
   "name": "python",
   "nbconvert_exporter": "python",
   "pygments_lexer": "ipython3",
   "version": "3.10.12"
  }
 },
 "nbformat": 4,
 "nbformat_minor": 5
}
