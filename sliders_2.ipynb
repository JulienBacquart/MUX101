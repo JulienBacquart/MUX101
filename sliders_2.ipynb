{
 "cells": [
  {
   "cell_type": "code",
   "execution_count": 1,
   "id": "eca21f9e",
   "metadata": {},
   "outputs": [],
   "source": [
    "import time\n",
    "\n",
    "import jpype.imports\n",
    "\n",
    "import py5_tools\n",
    "# The controlP5.jar file need to be added to a directory \"jars\"\n",
    "# with the following location based on the current file\n",
    "py5_tools.add_jars('../jars')"
   ]
  },
  {
   "cell_type": "code",
   "execution_count": 3,
   "id": "9ab41eb5",
   "metadata": {},
   "outputs": [],
   "source": [
    "import py5\n",
    "from controlP5 import ControlP5\n",
    "\n",
    "import os\n",
    "\n",
    "WIDTH = 300\n",
    "HEIGHT = 120\n",
    "\n",
    "SLIDER_LENGTH = 100\n",
    "SLIDER_HEIGHT = 12\n",
    "\n",
    "def setup():\n",
    "    py5.size(WIDTH, HEIGHT)\n",
    "    py5.smooth()\n",
    "    \n",
    "    global cp5, slider_list\n",
    "    cp5 = ControlP5(py5.get_current_sketch())\n",
    "    \n",
    "    # Not gonna lie, a python list of java object is kinda weird\n",
    "    slider_list = [cp5.addSlider(f'{j}').setPosition(50, 25 + i * 30).setSize(SLIDER_LENGTH, SLIDER_HEIGHT).setRange(0,255)\n",
    "                   for i, j in enumerate([\"red\", \"green\", \"blue\"])]\n",
    "    \n",
    "def draw():\n",
    "    py5.background(0)\n",
    "        \n",
    "    with py5.push_style():\n",
    "        py5.stroke(255)\n",
    "        col = (slider_list[i].getValue() for i in range(3))\n",
    "        py5.fill(*col)\n",
    "        py5.rect(190, 23, 75, 75)\n",
    "    \n",
    "py5.run_sketch()"
   ]
  },
  {
   "cell_type": "code",
   "execution_count": null,
   "id": "162a902f",
   "metadata": {},
   "outputs": [],
   "source": [
    "py5.save_frame(os.getcwd() + \"/sliders_2_####.png\", use_thread=True)"
   ]
  },
  {
   "attachments": {
    "sliders_2_0001.png": {
     "image/png": "[encoded data removed]"
    }
   },
   "cell_type": "markdown",
   "id": "d3cfce87",
   "metadata": {},
   "source": [
    "![sliders_2_0001.png](attachment:sliders_2_0001.png)"
   ]
  }
 ],
 "metadata": {
  "kernelspec": {
   "display_name": "Python 3 (ipykernel)",
   "language": "python",
   "name": "python3"
  },
  "language_info": {
   "codemirror_mode": {
    "name": "ipython",
    "version": 3
   },
   "file_extension": ".py",
   "mimetype": "text/x-python",
   "name": "python",
   "nbconvert_exporter": "python",
   "pygments_lexer": "ipython3",
   "version": "3.10.12"
  }
 },
 "nbformat": 4,
 "nbformat_minor": 5
}
